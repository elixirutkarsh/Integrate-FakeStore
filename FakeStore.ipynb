{
  "nbformat": 4,
  "nbformat_minor": 0,
  "metadata": {
    "colab": {
      "provenance": [],
      "authorship_tag": "ABX9TyNhmxPmyeUv2rfHV63nxiIx",
      "include_colab_link": true
    },
    "kernelspec": {
      "name": "python3",
      "display_name": "Python 3"
    },
    "language_info": {
      "name": "python"
    }
  },
  "cells": [
    {
      "cell_type": "markdown",
      "metadata": {
        "id": "view-in-github",
        "colab_type": "text"
      },
      "source": [
        "<a href=\"https://colab.research.google.com/github/elixirutkarsh/Integrate-FakeStore/blob/main/FakeStore.ipynb\" target=\"_parent\"><img src=\"https://colab.research.google.com/assets/colab-badge.svg\" alt=\"Open In Colab\"/></a>"
      ]
    },
    {
      "cell_type": "code",
      "execution_count": 1,
      "metadata": {
        "colab": {
          "base_uri": "https://localhost:8080/"
        },
        "id": "-F7b10Ndyofd",
        "outputId": "f5256c97-8b0f-4f84-d04b-dfc02adc70a0"
      },
      "outputs": [
        {
          "output_type": "stream",
          "name": "stdout",
          "text": [
            "Fetching product data from Fake Store API...\n",
            "\n",
            "Product Information:\n",
            "\n",
            "Title: Fjallraven - Foldsack No. 1 Backpack, Fits 15 Laptops\n",
            "Price: 109.95\n",
            "Category: men's clothing\n",
            "------------------------\n",
            "Title: Mens Casual Premium Slim Fit T-Shirts \n",
            "Price: 22.3\n",
            "Category: men's clothing\n",
            "------------------------\n",
            "Title: Mens Cotton Jacket\n",
            "Price: 55.99\n",
            "Category: men's clothing\n",
            "------------------------\n",
            "Title: Mens Casual Slim Fit\n",
            "Price: 15.99\n",
            "Category: men's clothing\n",
            "------------------------\n",
            "Title: John Hardy Women's Legends Naga Gold & Silver Dragon Station Chain Bracelet\n",
            "Price: 695\n",
            "Category: jewelery\n",
            "------------------------\n",
            "Title: Solid Gold Petite Micropave \n",
            "Price: 168\n",
            "Category: jewelery\n",
            "------------------------\n",
            "Title: White Gold Plated Princess\n",
            "Price: 9.99\n",
            "Category: jewelery\n",
            "------------------------\n",
            "Title: Pierced Owl Rose Gold Plated Stainless Steel Double\n",
            "Price: 10.99\n",
            "Category: jewelery\n",
            "------------------------\n",
            "Title: WD 2TB Elements Portable External Hard Drive - USB 3.0 \n",
            "Price: 64\n",
            "Category: electronics\n",
            "------------------------\n",
            "Title: SanDisk SSD PLUS 1TB Internal SSD - SATA III 6 Gb/s\n",
            "Price: 109\n",
            "Category: electronics\n",
            "------------------------\n",
            "Title: Silicon Power 256GB SSD 3D NAND A55 SLC Cache Performance Boost SATA III 2.5\n",
            "Price: 109\n",
            "Category: electronics\n",
            "------------------------\n",
            "Title: WD 4TB Gaming Drive Works with Playstation 4 Portable External Hard Drive\n",
            "Price: 114\n",
            "Category: electronics\n",
            "------------------------\n",
            "Title: Acer SB220Q bi 21.5 inches Full HD (1920 x 1080) IPS Ultra-Thin\n",
            "Price: 599\n",
            "Category: electronics\n",
            "------------------------\n",
            "Title: Samsung 49-Inch CHG90 144Hz Curved Gaming Monitor (LC49HG90DMNXZA) – Super Ultrawide Screen QLED \n",
            "Price: 999.99\n",
            "Category: electronics\n",
            "------------------------\n",
            "Title: BIYLACLESEN Women's 3-in-1 Snowboard Jacket Winter Coats\n",
            "Price: 56.99\n",
            "Category: women's clothing\n",
            "------------------------\n",
            "Title: Lock and Love Women's Removable Hooded Faux Leather Moto Biker Jacket\n",
            "Price: 29.95\n",
            "Category: women's clothing\n",
            "------------------------\n",
            "Title: Rain Jacket Women Windbreaker Striped Climbing Raincoats\n",
            "Price: 39.99\n",
            "Category: women's clothing\n",
            "------------------------\n",
            "Title: MBJ Women's Solid Short Sleeve Boat Neck V \n",
            "Price: 9.85\n",
            "Category: women's clothing\n",
            "------------------------\n",
            "Title: Opna Women's Short Sleeve Moisture\n",
            "Price: 7.95\n",
            "Category: women's clothing\n",
            "------------------------\n",
            "Title: DANVOUY Womens T Shirt Casual Cotton Short\n",
            "Price: 12.99\n",
            "Category: women's clothing\n",
            "------------------------\n"
          ]
        }
      ],
      "source": [
        "import requests\n",
        "\n",
        "# Function to fetch product data from the Fake Store API\n",
        "def get_product_data():\n",
        "    url = 'https://fakestoreapi.com/products'\n",
        "    response = requests.get(url)\n",
        "    if response.status_code == 200:\n",
        "        data = response.json()\n",
        "        return data\n",
        "    else:\n",
        "        print('Error fetching product data.')\n",
        "        return []\n",
        "\n",
        "# Function to display product information\n",
        "def display_product_info(products):\n",
        "    for product in products:\n",
        "        print('Title:', product['title'])\n",
        "        print('Price:', product['price'])\n",
        "        print('Category:', product['category'])\n",
        "        print('------------------------')\n",
        "\n",
        "# Main function\n",
        "def main():\n",
        "    print('Fetching product data from Fake Store API...\\n')\n",
        "    products = get_product_data()\n",
        "    if products:\n",
        "        print('Product Information:\\n')\n",
        "        display_product_info(products)\n",
        "\n",
        "# Run the main function\n",
        "if __name__ == '__main__':\n",
        "    main()\n"
      ]
    }
  ]
}